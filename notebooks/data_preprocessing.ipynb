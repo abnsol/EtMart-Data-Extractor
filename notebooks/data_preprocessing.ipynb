{
 "cells": [
  {
   "cell_type": "code",
   "execution_count": 7,
   "id": "300465b0",
   "metadata": {},
   "outputs": [],
   "source": [
    "import pandas as pd\n",
    "import os"
   ]
  },
  {
   "cell_type": "markdown",
   "id": "2fd05b6a",
   "metadata": {},
   "source": [
    "- read data"
   ]
  },
  {
   "cell_type": "code",
   "execution_count": 3,
   "id": "7654c3b6",
   "metadata": {},
   "outputs": [],
   "source": [
    "df = pd.read_csv('../data/output_data/telegram_data.csv')"
   ]
  },
  {
   "cell_type": "markdown",
   "id": "05aafe5c",
   "metadata": {},
   "source": [
    "- separate metadata from message"
   ]
  },
  {
   "cell_type": "code",
   "execution_count": 4,
   "id": "a7463ed7",
   "metadata": {},
   "outputs": [],
   "source": [
    "messages = df['Message'].astype(str)"
   ]
  },
  {
   "cell_type": "markdown",
   "id": "0176c91d",
   "metadata": {},
   "source": [
    "- function to remove emojis"
   ]
  },
  {
   "cell_type": "code",
   "execution_count": 5,
   "id": "8d380db9",
   "metadata": {},
   "outputs": [],
   "source": [
    "import re\n",
    "def remove_emojis(text):\n",
    "    # Regular expression to match common emoji Unicode blocks\n",
    "    # This can be complex, often involves specific emoji libraries or robust regex.\n",
    "    # A common one might involve looking for broad unicode ranges.\n",
    "    emoji_pattern = re.compile(\n",
    "        \"[\"\n",
    "        \"\\U0001F600-\\U0001F64F\"  # emoticons\n",
    "        \"\\U0001F300-\\U0001F5FF\"  # symbols & pictographs\n",
    "        \"\\U0001F680-\\U0001F6FF\"  # transport & map symbols\n",
    "        \"\\U0001F1E0-\\U0001F1FF\"  # flags (iOS)\n",
    "        \"\\U00002702-\\U000027B0\"\n",
    "        \"\\U000024C2-\\U0001F251\"\n",
    "        \"]+\", flags=re.UNICODE)\n",
    "    return emoji_pattern.sub(r'', text) # Replace with empty string"
   ]
  },
  {
   "cell_type": "markdown",
   "id": "6fbbb3e9",
   "metadata": {},
   "source": [
    "- Normalization"
   ]
  },
  {
   "cell_type": "code",
   "execution_count": 6,
   "id": "2e9d37da",
   "metadata": {},
   "outputs": [],
   "source": [
    "def normalize_amharic_punctuation(text):\n",
    "    text = text.replace('።', '.') # Replace Amharic full stop with Latin full stop\n",
    "    text = text.replace('፣', ',') # Replace Amharic comma with Latin comma\n",
    "    text = text.replace('፤', ';')\n",
    "    text = text.replace('፧', '?')\n",
    "    # You might also want to remove other specific symbols or extra spaces here\n",
    "    text = re.sub(r'\\s+', ' ', text).strip() # Replace multiple spaces with single space and strip leading/trailing\n",
    "    return text"
   ]
  },
  {
   "cell_type": "markdown",
   "id": "2e88246f",
   "metadata": {},
   "source": [
    "- Cleaning"
   ]
  },
  {
   "cell_type": "code",
   "execution_count": null,
   "id": "54c23493",
   "metadata": {},
   "outputs": [],
   "source": [
    "print(\"Applying cleaning steps...\")\n",
    "df['cleaned_message'] = df['Message'].apply(remove_emojis)\n",
    "df['cleaned_message'] = df['cleaned_message'].apply(normalize_amharic_punctuation)\n",
    "print(\"Cleaning complete.\")"
   ]
  },
  {
   "cell_type": "markdown",
   "id": "afbfe5e6",
   "metadata": {},
   "source": [
    "- Tokenization"
   ]
  },
  {
   "cell_type": "code",
   "execution_count": null,
   "id": "ab36f4b6",
   "metadata": {},
   "outputs": [],
   "source": [
    "from transformers import AutoTokenizer\n",
    "\n",
    "# This downloads the tokenizer configuration and vocabulary files\n",
    "tokenizer = AutoTokenizer.from_pretrained(\"bert-base-multilingual-cased\")\n",
    "print(\"Tokenizer loaded successfully!\")\n",
    "\n",
    "# This will give you a list of subword tokens for each message\n",
    "df['raw_tokens'] = df['cleaned_message'].apply(lambda x: tokenizer.tokenize(x))\n",
    "print(\"Tokenization complete. Displaying first few rows with cleaned messages and raw tokens:\")\n",
    "print(df[['Message', 'cleaned_message', 'raw_tokens']].head()) # Display some results"
   ]
  },
  {
   "cell_type": "markdown",
   "id": "24bf2543",
   "metadata": {},
   "source": [
    "- save the processed data"
   ]
  },
  {
   "cell_type": "code",
   "execution_count": null,
   "id": "963f19d4",
   "metadata": {},
   "outputs": [],
   "source": [
    "processed_df = df[['Id', 'cleaned_message', 'raw_tokens']].copy()\n",
    "\n",
    "processed_data_folder = os.path.join('data', 'output_data', 'processed_for_labeling')\n",
    "os.makedirs(processed_data_folder, exist_ok=True) # Ensure the directory exists\n",
    "\n",
    "processed_csv_path = os.path.join(processed_data_folder, 'processed_telegram_messages.csv')\n",
    "\n",
    "# Save the DataFrame to a new CSV file\n",
    "# For lists in a CSV column (like 'raw_tokens'), Pandas by default stores them as strings\n",
    "# (e.g., \"['token1', 'token2']\"). This is usually fine, you'll just parse them back later.\n",
    "processed_df.to_csv(processed_csv_path, index=False, encoding='utf-8')\n",
    "\n",
    "print(f\"Processed data saved to: {processed_csv_path}\")"
   ]
  }
 ],
 "metadata": {
  "kernelspec": {
   "display_name": ".venv",
   "language": "python",
   "name": "python3"
  },
  "language_info": {
   "codemirror_mode": {
    "name": "ipython",
    "version": 3
   },
   "file_extension": ".py",
   "mimetype": "text/x-python",
   "name": "python",
   "nbconvert_exporter": "python",
   "pygments_lexer": "ipython3",
   "version": "3.12.3"
  }
 },
 "nbformat": 4,
 "nbformat_minor": 5
}
